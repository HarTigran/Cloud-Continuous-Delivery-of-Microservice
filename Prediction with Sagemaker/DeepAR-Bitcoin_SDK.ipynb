{
 "cells": [
  {
   "cell_type": "markdown",
   "metadata": {},
   "source": [
    "**Configure execution roles**"
   ]
  },
  {
   "cell_type": "code",
   "execution_count": 1,
   "metadata": {},
   "outputs": [],
   "source": [
    "import sagemaker\n",
    "\n",
    "# SageMaker Execution Role\n",
    "# You can use sagemaker.get_execution_role() if running inside sagemaker's notebook instance\n",
    "sagemaker_execution_role = sagemaker.get_execution_role() #Replace with ARN if not in an AWS SageMaker notebook\n",
    "\n",
    "# paste the StepFunctionsWorkflowExecutionRole ARN from above\n",
    "workflow_execution_role = 'arn:aws:iam::118600533013:role/StepFunctionsWorkflowExecutionRole'"
   ]
  },
  {
   "cell_type": "code",
   "execution_count": 2,
   "metadata": {},
   "outputs": [
    {
     "name": "stderr",
     "output_type": "stream",
     "text": [
      "WARNING: You are using pip version 21.3.1; however, version 22.0.3 is available.\n",
      "You should consider upgrading via the '/home/ec2-user/anaconda3/envs/mxnet_latest_p37/bin/python -m pip install --upgrade pip' command.\n"
     ]
    }
   ],
   "source": [
    "%%sh\n",
    "pip -q install --upgrade stepfunctions"
   ]
  },
  {
   "cell_type": "markdown",
   "metadata": {},
   "source": [
    "**Import the required modules**"
   ]
  },
  {
   "cell_type": "code",
   "execution_count": 3,
   "metadata": {},
   "outputs": [],
   "source": [
    "import sys\n",
    "from dateutil.parser import parse\n",
    "import logging\n",
    "import uuid\n",
    "import stepfunctions\n",
    "import json\n",
    "import datetime\n",
    "import os\n",
    "import requests\n",
    "import datetime\n",
    "import time\n",
    "import boto3\n",
    "import s3fs\n",
    "import pandas as pd\n",
    "import numpy as np\n",
    "from datetime import timedelta\n",
    "\n",
    "from sagemaker.amazon.amazon_estimator import get_image_uri\n",
    "from sagemaker.transformer import Transformer\n",
    "from stepfunctions import steps\n",
    "from stepfunctions.steps import TrainingStep, ModelStep, TransformStep\n",
    "from stepfunctions.inputs import ExecutionInput\n",
    "from stepfunctions.workflow import Workflow\n",
    "from stepfunctions.template import TrainingPipeline\n",
    "from stepfunctions.template.utils import replace_parameters_with_jsonpath\n",
    "\n",
    "sagemaker_session = sagemaker.Session()\n",
    "stepfunctions.set_stream_logger(level=logging.INFO)\n",
    "\n",
    "region = boto3.Session().region_name\n",
    "\n",
    "s3_bucket = sagemaker.Session().default_bucket()  # replace with an existing bucket if needed\n",
    "s3_prefix = \"bitcoin-notebook\"  # prefix used for all data stored within the bucket\n",
    "\n",
    "s3_data_path = \"s3://{}/{}/data\".format(s3_bucket, s3_prefix)\n",
    "s3_output_path = \"s3://{}/{}/output\".format(s3_bucket, s3_prefix)"
   ]
  },
  {
   "cell_type": "markdown",
   "metadata": {},
   "source": [
    "Next, we configure the container image to be used for the region that we are running in."
   ]
  },
  {
   "cell_type": "code",
   "execution_count": 4,
   "metadata": {},
   "outputs": [],
   "source": [
    "image_uri = get_image_uri(boto3.Session().region_name, \"forecasting-deepar\")"
   ]
  },
  {
   "cell_type": "markdown",
   "metadata": {},
   "source": [
    "**Prepare the dataset**"
   ]
  },
  {
   "cell_type": "markdown",
   "metadata": {},
   "source": [
    "As a first step, we need to download data set."
   ]
  },
  {
   "cell_type": "code",
   "execution_count": 5,
   "metadata": {},
   "outputs": [],
   "source": [
    "today = datetime.date.today()\n",
    "today_365 = today - datetime.timedelta(days = 365)\n",
    "unix_today = time.mktime(today.timetuple())\n",
    "unix_today_365 = time.mktime(today_365.timetuple())\n",
    "\n",
    "\n",
    "r = requests.get(\n",
    "        \"https://api.coingecko.com/api/v3/coins/bitcoin/market_chart/range?vs_currency=usd&from={}&to={}\".format(\n",
    "            unix_today_365,unix_today\n",
    "        )\n",
    "    )\n",
    "r_2 = requests.get(\n",
    "        \"https://api.coingecko.com/api/v3/coins/ethereum/market_chart/range?vs_currency=usd&from={}&to={}\".format(\n",
    "            unix_today_365,unix_today\n",
    "        )\n",
    "    )\n",
    "\n",
    "data = pd.DataFrame(r.json()['prices'],columns = ['Date', 'Price_bitcoin']) \n",
    "data['Date'] = pd.to_datetime(data['Date'].astype(int), unit = 'ms')\n",
    "\n",
    "eth = np.array(r_2.json()['prices'])[:,1]\n",
    "data['Price_ethereum'] = eth"
   ]
  },
  {
   "cell_type": "markdown",
   "metadata": {},
   "source": [
    "Then, we load and parse the dataset and convert it to a collection of Pandas time series, which makes common time series operations such as indexing by time periods or resampling much easier."
   ]
  },
  {
   "cell_type": "markdown",
   "metadata": {},
   "source": [
    "### Train and Test splits\n",
    "\n",
    "Often times one is interested in evaluating the model or tuning its hyperparameters by looking at error metrics on a hold-out test set. Here we split the available data into train and test sets for evaluating the trained model. For standard machine learning tasks such as classification and regression, one typically obtains this split by randomly separating examples into train and test sets. However, in forecasting it is important to do this train/test split based on time rather than by time series.\n",
    "\n",
    "In this example, we will reserve the last section of each of the time series for evalutation purpose and use only the first part as training data. "
   ]
  },
  {
   "cell_type": "code",
   "execution_count": 6,
   "metadata": {},
   "outputs": [],
   "source": [
    "# we use 1 Day frequency for the time series\n",
    "freq = \"1D\"\n",
    "\n",
    "# we predict for 7 days\n",
    "prediction_length = 7\n",
    "\n",
    "# we also use 7 days as context length, this is the number of state updates accomplished before making predictions\n",
    "context_length = 7"
   ]
  },
  {
   "cell_type": "markdown",
   "metadata": {},
   "source": [
    "We specify here the portion of the data that is used for training: the model sees data from 2014-01-01 to 2014-09-01 for training."
   ]
  },
  {
   "cell_type": "code",
   "execution_count": 7,
   "metadata": {},
   "outputs": [],
   "source": [
    "start_dataset = pd.Timestamp(\"2021-02-02 00:00:00\", freq=freq)\n",
    "end_training = pd.Timestamp(\"2022-02-02 00:00:00\", freq=freq)"
   ]
  },
  {
   "cell_type": "markdown",
   "metadata": {},
   "source": [
    "The DeepAR JSON input format represents each time series as a JSON object. In the simplest case each time series just consists of a start time stamp (``start``) and a list of values (``target``). For more complex cases, DeepAR also supports the fields ``dynamic_feat`` for time-series features and ``cat`` for categorical features, which we will use  later."
   ]
  },
  {
   "cell_type": "code",
   "execution_count": 8,
   "metadata": {},
   "outputs": [],
   "source": [
    "dt_train_range = (start_dataset,\n",
    "                  end_training - datetime.timedelta(days=7) )\n",
    "\n",
    "# Use entire data for testing\n",
    "# We can compare predicted values vs actual (i.e. last 12 days is withheld for testing and model hasn't seen that data)\n",
    "dt_test_range = (start_dataset, \n",
    "                 end_training) "
   ]
  },
  {
   "cell_type": "code",
   "execution_count": 9,
   "metadata": {},
   "outputs": [],
   "source": [
    "targets = ['Price_bitcoin','Price_ethereum']\n",
    "data = data.set_index('Date')\n",
    "data.index.freq = 'd'\n",
    "\n",
    "time_series_test = []\n",
    "time_series_training = []\n",
    "\n",
    "for target in targets:\n",
    "    time_series_test.append(data[dt_test_range[0]:dt_test_range[1]][target])\n",
    "    time_series_training.append(data[dt_train_range[0]:dt_train_range[1]][target])\n",
    "    \n",
    "# time_series_test = [data[dt_test_range[0]:dt_test_range[1]][target]]\n",
    "# time_series_training = [data[dt_train_range[0]:dt_train_range[1]][target]]"
   ]
  },
  {
   "cell_type": "code",
   "execution_count": 10,
   "metadata": {},
   "outputs": [],
   "source": [
    "training_data = [\n",
    "    {\n",
    "        \"start\": str(start_dataset),\n",
    "        \"target\": ts[\n",
    "            start_dataset : end_training - timedelta(days=1)\n",
    "        ].tolist(),  # We use -1, because pandas indexing includes the upper bound\n",
    "    }\n",
    "    for ts in time_series_training\n",
    "]"
   ]
  },
  {
   "cell_type": "code",
   "execution_count": 11,
   "metadata": {},
   "outputs": [],
   "source": [
    "test_data = [\n",
    "    {\n",
    "        \"start\": str(start_dataset),\n",
    "        \"target\": ts[\n",
    "            start_dataset : end_training - timedelta(days=1)\n",
    "        ].tolist(),  # We use -1, because pandas indexing includes the upper bound\n",
    "    }\n",
    "    for ts in time_series_test\n",
    "]"
   ]
  },
  {
   "cell_type": "code",
   "execution_count": 12,
   "metadata": {},
   "outputs": [],
   "source": [
    "def write_dicts_to_file(path, data):\n",
    "    with open(path, \"wb\") as fp:\n",
    "        for d in data:\n",
    "            fp.write(json.dumps(d).encode(\"utf-8\"))\n",
    "            fp.write(\"\\n\".encode(\"utf-8\"))"
   ]
  },
  {
   "cell_type": "code",
   "execution_count": 13,
   "metadata": {},
   "outputs": [
    {
     "name": "stdout",
     "output_type": "stream",
     "text": [
      "CPU times: user 2.87 ms, sys: 0 ns, total: 2.87 ms\n",
      "Wall time: 2.72 ms\n"
     ]
    }
   ],
   "source": [
    "%%time\n",
    "write_dicts_to_file(\"train.json\", training_data)\n",
    "write_dicts_to_file(\"test.json\", test_data)"
   ]
  },
  {
   "cell_type": "code",
   "execution_count": 14,
   "metadata": {},
   "outputs": [],
   "source": [
    "s3 = boto3.resource(\"s3\")\n",
    "\n",
    "\n",
    "def copy_to_s3(local_file, s3_path, override=False):\n",
    "    assert s3_path.startswith(\"s3://\")\n",
    "    split = s3_path.split(\"/\")\n",
    "    bucket = split[2]\n",
    "    path = \"/\".join(split[3:])\n",
    "    buk = s3.Bucket(bucket)\n",
    "\n",
    "    if len(list(buk.objects.filter(Prefix=path))) > 0:\n",
    "        if not override:\n",
    "            print(\n",
    "                \"File s3://{}/{} already exists.\\nSet override to upload anyway.\\n\".format(\n",
    "                    s3_bucket, s3_path\n",
    "                )\n",
    "            )\n",
    "            return\n",
    "        else:\n",
    "            print(\"Overwriting existing file\")\n",
    "    with open(local_file, \"rb\") as data:\n",
    "        print(\"Uploading file to {}\".format(s3_path))\n",
    "        buk.put_object(Key=path, Body=data)"
   ]
  },
  {
   "cell_type": "code",
   "execution_count": 15,
   "metadata": {},
   "outputs": [
    {
     "name": "stdout",
     "output_type": "stream",
     "text": [
      "File s3://sagemaker-us-east-1-118600533013/s3://sagemaker-us-east-1-118600533013/bitcoin-notebook/data/train/train.json already exists.\n",
      "Set override to upload anyway.\n",
      "\n",
      "File s3://sagemaker-us-east-1-118600533013/s3://sagemaker-us-east-1-118600533013/bitcoin-notebook/data/test/test.json already exists.\n",
      "Set override to upload anyway.\n",
      "\n",
      "CPU times: user 24.1 ms, sys: 0 ns, total: 24.1 ms\n",
      "Wall time: 81.5 ms\n"
     ]
    }
   ],
   "source": [
    "%%time\n",
    "copy_to_s3(\"train.json\", s3_data_path + \"/train/train.json\")\n",
    "copy_to_s3(\"test.json\", s3_data_path + \"/test/test.json\")"
   ]
  },
  {
   "cell_type": "markdown",
   "metadata": {},
   "source": [
    "Now that we have the data files locally, let us copy them to S3 where DeepAR can access them. Depending on your connection, this may take a couple of minutes."
   ]
  },
  {
   "cell_type": "markdown",
   "metadata": {},
   "source": [
    "We are all set with our dataset processing, we can now call DeepAR to train a model and generate predictions."
   ]
  },
  {
   "cell_type": "markdown",
   "metadata": {},
   "source": [
    "### Train a model\n",
    "\n",
    "Here we define the estimator that will launch the training job."
   ]
  },
  {
   "cell_type": "code",
   "execution_count": 16,
   "metadata": {},
   "outputs": [],
   "source": [
    "estimator = sagemaker.estimator.Estimator(\n",
    "    image_uri =  image_uri,\n",
    "    sagemaker_session=sagemaker_session,\n",
    "    role=sagemaker_execution_role,\n",
    "    train_instance_count=1,\n",
    "    train_instance_type=\"ml.c4.2xlarge\",\n",
    "    base_job_name=\"deepar-bitcoin\",\n",
    "    output_path=s3_output_path,\n",
    ")"
   ]
  },
  {
   "cell_type": "markdown",
   "metadata": {},
   "source": [
    "Next we need to set the hyperparameters for the training job. For example frequency of the time series used, number of data points the model will look at in the past, number of predicted data points. The other hyperparameters concern the model to train (number of layers, number of cells per layer, likelihood function) and the training options (number of epochs, batch size, learning rate...). We use default parameters for every optional parameter in this case (you can always use [Sagemaker Automated Model Tuning](https://aws.amazon.com/blogs/aws/sagemaker-automatic-model-tuning/) to tune them)."
   ]
  },
  {
   "cell_type": "code",
   "execution_count": 17,
   "metadata": {},
   "outputs": [],
   "source": [
    "hyperparameters = {\n",
    "    \"time_freq\": freq,\n",
    "    \"epochs\": \"400\",\n",
    "    \"early_stopping_patience\": \"40\",\n",
    "    \"mini_batch_size\": \"64\",\n",
    "    \"learning_rate\": \"5E-4\",\n",
    "    \"context_length\": str(context_length),\n",
    "    \"prediction_length\": str(prediction_length),\n",
    "}"
   ]
  },
  {
   "cell_type": "code",
   "execution_count": 18,
   "metadata": {},
   "outputs": [],
   "source": [
    "estimator.set_hyperparameters(**hyperparameters)"
   ]
  },
  {
   "cell_type": "markdown",
   "metadata": {},
   "source": [
    "**Define the input schema for a workflow execution**\n",
    "\n",
    "\n",
    "The ExecutionInput API defines the options to dynamically pass information to a workflow at runtime.\n",
    "\n",
    "The following cell defines the fields that must be passed to your workflow when starting an execution.\n",
    "\n",
    "While the workflow is usually static after it is defined, you may want to pass values dynamically that are used by steps in your workflow. To help with this, the SDK provides a way to create placeholders when you define your workflow. These placeholders can be dynamically assigned values when you execute your workflow.\n",
    "\n",
    "ExecutionInput values are accessible to each step of your workflow. You have the ability to define a schema for this placeholder collection, as shown in the cell below. When you execute your workflow the SDK will verify if the dynamic input conforms to the schema you defined."
   ]
  },
  {
   "cell_type": "code",
   "execution_count": 19,
   "metadata": {},
   "outputs": [],
   "source": [
    "# SageMaker expects unique names for each job, model and endpoint. \n",
    "# If these names are not unique the execution will fail. Pass these\n",
    "# dynamically for each execution using placeholders.\n",
    "execution_input = ExecutionInput(schema={\n",
    "    'JobName': str, \n",
    "    'ModelName': str\n",
    "})"
   ]
  },
  {
   "cell_type": "markdown",
   "metadata": {},
   "source": [
    "**Create the training step**\n",
    "\n",
    "In the following cell we create the training step and pass the estimator we defined above. See TrainingStep in the AWS Step Functions Data Science SDK documentation."
   ]
  },
  {
   "cell_type": "code",
   "execution_count": 20,
   "metadata": {},
   "outputs": [],
   "source": [
    "training_step = steps.TrainingStep(\n",
    "    'Train Step', \n",
    "    estimator=estimator,\n",
    "    data = {\n",
    "        \"train\": \"{}/train/\".format(s3_data_path),\n",
    "        \"test\": \"{}/test/\".format(s3_data_path)\n",
    "    },\n",
    "    job_name=execution_input['JobName']\n",
    ")"
   ]
  },
  {
   "cell_type": "markdown",
   "metadata": {},
   "source": [
    "**Create the model step**\n",
    "\n",
    "In the following cell we define a model step that will create a model in SageMaker using the artifacts created during the TrainingStep. See ModelStep in the AWS Step Functions Data Science SDK documentation.\n",
    "\n",
    "The model creation step typically follows the training step. The Step Functions SDK provides the get_expected_model method in the TrainingStep class to provide a reference for the trained model artifacts. Please note that this method is only useful when the ModelStep directly follows the TrainingStep."
   ]
  },
  {
   "cell_type": "code",
   "execution_count": 21,
   "metadata": {},
   "outputs": [],
   "source": [
    "model_step = steps.ModelStep(\n",
    "    'Save model',\n",
    "    model=training_step.get_expected_model(),\n",
    "    model_name=execution_input['ModelName']  \n",
    ")"
   ]
  },
  {
   "cell_type": "markdown",
   "metadata": {},
   "source": [
    "**Create the transform step**\n",
    "\n",
    "In the following cell we create the transform step. See TransformStep in the AWS Step Functions Data Science SDK documentation."
   ]
  },
  {
   "cell_type": "code",
   "execution_count": 22,
   "metadata": {},
   "outputs": [],
   "source": [
    "from sagemaker.predictor import json_serializer\n",
    "\n",
    "transform_step = steps.TransformStep(\n",
    "    'Transform Input Dataset',\n",
    "    transformer=estimator.transformer(\n",
    "        instance_count=1,\n",
    "        instance_type='ml.m5.large',\n",
    "        strategy='MultiRecord',\n",
    "        output_path= '{}/batch-prediction'.format(s3_data_path),\n",
    "        assemble_with='Line'\n",
    "    ),\n",
    "    job_name=execution_input['JobName'],     \n",
    "    model_name=execution_input['ModelName'], \n",
    "    data='{}/test'.format(s3_data_path),\n",
    "    split_type='Line'\n",
    ")"
   ]
  },
  {
   "cell_type": "markdown",
   "metadata": {},
   "source": [
    "**Chain together steps for your workflow**\n",
    "\n",
    "Create your workflow definition by chaining the steps together. See Chain in the AWS Step Functions Data Science SDK documentation."
   ]
  },
  {
   "cell_type": "code",
   "execution_count": 23,
   "metadata": {},
   "outputs": [],
   "source": [
    "workflow_definition = steps.Chain([\n",
    "    training_step,\n",
    "    model_step,\n",
    "    transform_step\n",
    "])"
   ]
  },
  {
   "cell_type": "markdown",
   "metadata": {},
   "source": [
    "Create your workflow using the workflow definition above, and render the graph with render_graph."
   ]
  },
  {
   "cell_type": "code",
   "execution_count": 24,
   "metadata": {},
   "outputs": [],
   "source": [
    "from time import strftime, gmtime\n",
    "timestamp = strftime('%d-%H-%M-%S', gmtime())\n",
    "\n",
    "workflow = Workflow(\n",
    "    name='{}-{}'.format('MyTrainTransformDeploy_v1', timestamp),\n",
    "    definition=workflow_definition,\n",
    "    role=workflow_execution_role,\n",
    "    execution_input=execution_input\n",
    ")"
   ]
  },
  {
   "cell_type": "code",
   "execution_count": 25,
   "metadata": {},
   "outputs": [
    {
     "data": {
      "text/html": [
       "\n",
       "<link rel=\"stylesheet\" type=\"text/css\" href=\"https://do0of8uwbahzz.cloudfront.net/graph.css\">\n",
       "<div id=\"graph-361\" class=\"workflowgraph\">\n",
       "    \n",
       "    <svg></svg>\n",
       "    \n",
       "</div>\n",
       "\n",
       "<script type=\"text/javascript\">\n",
       "\n",
       "require.config({\n",
       "    paths: {\n",
       "        sfn: \"https://do0of8uwbahzz.cloudfront.net/sfn\",\n",
       "    }\n",
       "});\n",
       "\n",
       "require(['sfn'], function(sfn) {\n",
       "    var element = document.getElementById('graph-361')\n",
       "\n",
       "    var options = {\n",
       "        width: parseFloat(getComputedStyle(element, null).width.replace(\"px\", \"\")),\n",
       "        height: 600,\n",
       "        layout: 'LR',\n",
       "        resizeHeight: true\n",
       "    };\n",
       "\n",
       "    var definition = {\"StartAt\": \"Train Step\", \"States\": {\"Train Step\": {\"Resource\": \"arn:aws:states:::sagemaker:createTrainingJob.sync\", \"Parameters\": {\"AlgorithmSpecification\": {\"TrainingImage\": \"522234722520.dkr.ecr.us-east-1.amazonaws.com/forecasting-deepar:1\", \"TrainingInputMode\": \"File\"}, \"OutputDataConfig\": {\"S3OutputPath\": \"s3://sagemaker-us-east-1-118600533013/bitcoin-notebook/output\"}, \"StoppingCondition\": {\"MaxRuntimeInSeconds\": 86400}, \"ResourceConfig\": {\"InstanceCount\": 1, \"InstanceType\": \"ml.c4.2xlarge\", \"VolumeSizeInGB\": 30}, \"RoleArn\": \"arn:aws:iam::118600533013:role/service-role/AmazonSageMaker-ExecutionRole-20220205T005794\", \"InputDataConfig\": [{\"DataSource\": {\"S3DataSource\": {\"S3DataType\": \"S3Prefix\", \"S3Uri\": \"s3://sagemaker-us-east-1-118600533013/bitcoin-notebook/data/train/\", \"S3DataDistributionType\": \"FullyReplicated\"}}, \"ChannelName\": \"train\"}, {\"DataSource\": {\"S3DataSource\": {\"S3DataType\": \"S3Prefix\", \"S3Uri\": \"s3://sagemaker-us-east-1-118600533013/bitcoin-notebook/data/test/\", \"S3DataDistributionType\": \"FullyReplicated\"}}, \"ChannelName\": \"test\"}], \"HyperParameters\": {\"time_freq\": \"1D\", \"epochs\": \"400\", \"early_stopping_patience\": \"40\", \"mini_batch_size\": \"64\", \"learning_rate\": \"5E-4\", \"context_length\": \"7\", \"prediction_length\": \"7\"}, \"TrainingJobName.$\": \"$$.Execution.Input['JobName']\"}, \"Type\": \"Task\", \"Next\": \"Save model\"}, \"Save model\": {\"Parameters\": {\"ExecutionRoleArn\": \"arn:aws:iam::118600533013:role/service-role/AmazonSageMaker-ExecutionRole-20220205T005794\", \"ModelName.$\": \"$$.Execution.Input['ModelName']\", \"PrimaryContainer\": {\"Environment\": {}, \"Image\": \"522234722520.dkr.ecr.us-east-1.amazonaws.com/forecasting-deepar:1\", \"ModelDataUrl.$\": \"$['ModelArtifacts']['S3ModelArtifacts']\"}}, \"Resource\": \"arn:aws:states:::sagemaker:createModel\", \"Type\": \"Task\", \"Next\": \"Transform Input Dataset\"}, \"Transform Input Dataset\": {\"Resource\": \"arn:aws:states:::sagemaker:createTransformJob.sync\", \"Parameters\": {\"TransformJobName.$\": \"$$.Execution.Input['JobName']\", \"ModelName.$\": \"$$.Execution.Input['ModelName']\", \"TransformInput\": {\"DataSource\": {\"S3DataSource\": {\"S3DataType\": \"S3Prefix\", \"S3Uri\": \"s3://sagemaker-us-east-1-118600533013/bitcoin-notebook/data/test\"}}, \"SplitType\": \"Line\"}, \"TransformOutput\": {\"S3OutputPath\": \"s3://sagemaker-us-east-1-118600533013/bitcoin-notebook/data/batch-prediction\", \"AssembleWith\": \"Line\"}, \"TransformResources\": {\"InstanceCount\": 1, \"InstanceType\": \"ml.m5.large\"}, \"BatchStrategy\": \"MultiRecord\"}, \"Type\": \"Task\", \"End\": true}}};\n",
       "    var elementId = '#graph-361';\n",
       "\n",
       "    var graph = new sfn.StateMachineGraph(definition, elementId, options);\n",
       "    graph.render();\n",
       "});\n",
       "\n",
       "</script>\n"
      ],
      "text/plain": [
       "<IPython.core.display.HTML object>"
      ]
     },
     "execution_count": 25,
     "metadata": {},
     "output_type": "execute_result"
    }
   ],
   "source": [
    "workflow.render_graph()"
   ]
  },
  {
   "cell_type": "markdown",
   "metadata": {},
   "source": [
    "Create the workflow in AWS Step Functions with create."
   ]
  },
  {
   "cell_type": "code",
   "execution_count": 26,
   "metadata": {},
   "outputs": [
    {
     "name": "stdout",
     "output_type": "stream",
     "text": [
      "\u001b[32m[INFO] Workflow created successfully on AWS Step Functions.\u001b[0m\n"
     ]
    },
    {
     "data": {
      "text/plain": [
       "'arn:aws:states:us-east-1:118600533013:stateMachine:MyTrainTransformDeploy_v1-06-08-14-50'"
      ]
     },
     "execution_count": 26,
     "metadata": {},
     "output_type": "execute_result"
    }
   ],
   "source": [
    "workflow.create()"
   ]
  },
  {
   "cell_type": "code",
   "execution_count": 27,
   "metadata": {},
   "outputs": [
    {
     "name": "stdout",
     "output_type": "stream",
     "text": [
      "\u001b[32m[INFO] Workflow execution started successfully on AWS Step Functions.\u001b[0m\n"
     ]
    }
   ],
   "source": [
    "execution = workflow.execute(\n",
    "    inputs={\n",
    "        'JobName': 'regression-{}'.format(uuid.uuid1().hex), # Each Sagemaker Job requires a unique name\n",
    "        'ModelName': 'regression-{}'.format(uuid.uuid1().hex) # Each Model requires a unique name,\n",
    "    }\n",
    ")"
   ]
  },
  {
   "cell_type": "markdown",
   "metadata": {},
   "source": [
    "Render workflow progress with the render_progress.\n",
    "\n",
    "This generates a snapshot of the current state of your workflow as it executes. This is a static image. Run the cell again to check progress."
   ]
  },
  {
   "cell_type": "code",
   "execution_count": 32,
   "metadata": {},
   "outputs": [
    {
     "data": {
      "text/html": [
       "\n",
       "<link rel=\"stylesheet\" type=\"text/css\" href=\"https://do0of8uwbahzz.cloudfront.net/graph.css\">\n",
       "<div id=\"graph-188\" class=\"workflowgraph\">\n",
       "    \n",
       "    <style>\n",
       "        .graph-legend ul {\n",
       "            list-style-type: none;\n",
       "            padding: 10px;\n",
       "            padding-left: 0;\n",
       "            margin: 0;\n",
       "            position: absolute;\n",
       "            top: 0;\n",
       "            background: transparent;\n",
       "        }\n",
       "\n",
       "        .graph-legend li {\n",
       "            margin-left: 10px;\n",
       "            display: inline-block;\n",
       "        }\n",
       "\n",
       "        .graph-legend li > div {\n",
       "            width: 10px;\n",
       "            height: 10px;\n",
       "            display: inline-block;\n",
       "        }\n",
       "\n",
       "        .graph-legend .success { background-color: #2BD62E }\n",
       "        .graph-legend .failed { background-color: #DE322F }\n",
       "        .graph-legend .cancelled { background-color: #DDDDDD }\n",
       "        .graph-legend .in-progress { background-color: #53C9ED }\n",
       "        .graph-legend .caught-error { background-color: #FFA500 }\n",
       "    </style>\n",
       "    <div class=\"graph-legend\">\n",
       "        <ul>\n",
       "            <li>\n",
       "                <div class=\"success\"></div>\n",
       "                <span>Success</span>\n",
       "            </li>\n",
       "            <li>\n",
       "                <div class=\"failed\"></div>\n",
       "                <span>Failed</span>\n",
       "            </li>\n",
       "            <li>\n",
       "                <div class=\"cancelled\"></div>\n",
       "                <span>Cancelled</span>\n",
       "            </li>\n",
       "            <li>\n",
       "                <div class=\"in-progress\"></div>\n",
       "                <span>In Progress</span>\n",
       "            </li>\n",
       "            <li>\n",
       "                <div class=\"caught-error\"></div>\n",
       "                <span>Caught Error</span>\n",
       "            </li>\n",
       "        </ul>\n",
       "    </div>\n",
       "\n",
       "    <svg></svg>\n",
       "    <a href=\"https://console.aws.amazon.com/states/home?region=us-east-1#/executions/details/arn:aws:states:us-east-1:118600533013:execution:MyTrainTransformDeploy_v1-06-08-14-50:6de8c3d1-4361-47eb-b812-c1a184760975\" target=\"_blank\"> Inspect in AWS Step Functions </a>\n",
       "</div>\n",
       "\n",
       "<script type=\"text/javascript\">\n",
       "\n",
       "require.config({\n",
       "    paths: {\n",
       "        sfn: \"https://do0of8uwbahzz.cloudfront.net/sfn\",\n",
       "    }\n",
       "});\n",
       "\n",
       "require(['sfn'], function(sfn) {\n",
       "    var element = document.getElementById('graph-188')\n",
       "\n",
       "    var options = {\n",
       "        width: parseFloat(getComputedStyle(element, null).width.replace(\"px\", \"\")),\n",
       "        height: 1000,\n",
       "        layout: 'LR',\n",
       "        resizeHeight: true\n",
       "    };\n",
       "\n",
       "    var definition = {\"StartAt\": \"Train Step\", \"States\": {\"Train Step\": {\"Resource\": \"arn:aws:states:::sagemaker:createTrainingJob.sync\", \"Parameters\": {\"AlgorithmSpecification\": {\"TrainingImage\": \"522234722520.dkr.ecr.us-east-1.amazonaws.com/forecasting-deepar:1\", \"TrainingInputMode\": \"File\"}, \"OutputDataConfig\": {\"S3OutputPath\": \"s3://sagemaker-us-east-1-118600533013/bitcoin-notebook/output\"}, \"StoppingCondition\": {\"MaxRuntimeInSeconds\": 86400}, \"ResourceConfig\": {\"InstanceCount\": 1, \"InstanceType\": \"ml.c4.2xlarge\", \"VolumeSizeInGB\": 30}, \"RoleArn\": \"arn:aws:iam::118600533013:role/service-role/AmazonSageMaker-ExecutionRole-20220205T005794\", \"InputDataConfig\": [{\"DataSource\": {\"S3DataSource\": {\"S3DataType\": \"S3Prefix\", \"S3Uri\": \"s3://sagemaker-us-east-1-118600533013/bitcoin-notebook/data/train/\", \"S3DataDistributionType\": \"FullyReplicated\"}}, \"ChannelName\": \"train\"}, {\"DataSource\": {\"S3DataSource\": {\"S3DataType\": \"S3Prefix\", \"S3Uri\": \"s3://sagemaker-us-east-1-118600533013/bitcoin-notebook/data/test/\", \"S3DataDistributionType\": \"FullyReplicated\"}}, \"ChannelName\": \"test\"}], \"HyperParameters\": {\"time_freq\": \"1D\", \"epochs\": \"400\", \"early_stopping_patience\": \"40\", \"mini_batch_size\": \"64\", \"learning_rate\": \"5E-4\", \"context_length\": \"7\", \"prediction_length\": \"7\"}, \"TrainingJobName.$\": \"$$.Execution.Input['JobName']\"}, \"Type\": \"Task\", \"Next\": \"Save model\"}, \"Save model\": {\"Parameters\": {\"ExecutionRoleArn\": \"arn:aws:iam::118600533013:role/service-role/AmazonSageMaker-ExecutionRole-20220205T005794\", \"ModelName.$\": \"$$.Execution.Input['ModelName']\", \"PrimaryContainer\": {\"Environment\": {}, \"Image\": \"522234722520.dkr.ecr.us-east-1.amazonaws.com/forecasting-deepar:1\", \"ModelDataUrl.$\": \"$['ModelArtifacts']['S3ModelArtifacts']\"}}, \"Resource\": \"arn:aws:states:::sagemaker:createModel\", \"Type\": \"Task\", \"Next\": \"Transform Input Dataset\"}, \"Transform Input Dataset\": {\"Resource\": \"arn:aws:states:::sagemaker:createTransformJob.sync\", \"Parameters\": {\"TransformJobName.$\": \"$$.Execution.Input['JobName']\", \"ModelName.$\": \"$$.Execution.Input['ModelName']\", \"TransformInput\": {\"DataSource\": {\"S3DataSource\": {\"S3DataType\": \"S3Prefix\", \"S3Uri\": \"s3://sagemaker-us-east-1-118600533013/bitcoin-notebook/data/test\"}}, \"SplitType\": \"Line\"}, \"TransformOutput\": {\"S3OutputPath\": \"s3://sagemaker-us-east-1-118600533013/bitcoin-notebook/data/batch-prediction\", \"AssembleWith\": \"Line\"}, \"TransformResources\": {\"InstanceCount\": 1, \"InstanceType\": \"ml.m5.large\"}, \"BatchStrategy\": \"MultiRecord\"}, \"Type\": \"Task\", \"End\": true}}};\n",
       "    var elementId = '#graph-188';\n",
       "    var events = { 'events': [{\"timestamp\": 1644135294.227, \"type\": \"ExecutionStarted\", \"id\": 1, \"previousEventId\": 0, \"executionStartedEventDetails\": {\"input\": \"{\\n    \\\"JobName\\\": \\\"regression-dd3c9070872411ec9ce40a5f9c26874b\\\",\\n    \\\"ModelName\\\": \\\"regression-dd3c925a872411ec9ce40a5f9c26874b\\\"\\n}\", \"inputDetails\": {\"truncated\": false}, \"roleArn\": \"arn:aws:iam::118600533013:role/StepFunctionsWorkflowExecutionRole\"}}, {\"timestamp\": 1644135294.283, \"type\": \"TaskStateEntered\", \"id\": 2, \"previousEventId\": 0, \"stateEnteredEventDetails\": {\"name\": \"Train Step\", \"input\": \"{\\n    \\\"JobName\\\": \\\"regression-dd3c9070872411ec9ce40a5f9c26874b\\\",\\n    \\\"ModelName\\\": \\\"regression-dd3c925a872411ec9ce40a5f9c26874b\\\"\\n}\", \"inputDetails\": {\"truncated\": false}}}, {\"timestamp\": 1644135294.283, \"type\": \"TaskScheduled\", \"id\": 3, \"previousEventId\": 2, \"taskScheduledEventDetails\": {\"resourceType\": \"sagemaker\", \"resource\": \"createTrainingJob.sync\", \"region\": \"us-east-1\", \"parameters\": \"{\\\"AlgorithmSpecification\\\":{\\\"TrainingImage\\\":\\\"522234722520.dkr.ecr.us-east-1.amazonaws.com/forecasting-deepar:1\\\",\\\"TrainingInputMode\\\":\\\"File\\\"},\\\"OutputDataConfig\\\":{\\\"S3OutputPath\\\":\\\"s3://sagemaker-us-east-1-118600533013/bitcoin-notebook/output\\\"},\\\"StoppingCondition\\\":{\\\"MaxRuntimeInSeconds\\\":86400},\\\"ResourceConfig\\\":{\\\"InstanceCount\\\":1,\\\"InstanceType\\\":\\\"ml.c4.2xlarge\\\",\\\"VolumeSizeInGB\\\":30},\\\"RoleArn\\\":\\\"arn:aws:iam::118600533013:role/service-role/AmazonSageMaker-ExecutionRole-20220205T005794\\\",\\\"InputDataConfig\\\":[{\\\"DataSource\\\":{\\\"S3DataSource\\\":{\\\"S3DataType\\\":\\\"S3Prefix\\\",\\\"S3Uri\\\":\\\"s3://sagemaker-us-east-1-118600533013/bitcoin-notebook/data/train/\\\",\\\"S3DataDistributionType\\\":\\\"FullyReplicated\\\"}},\\\"ChannelName\\\":\\\"train\\\"},{\\\"DataSource\\\":{\\\"S3DataSource\\\":{\\\"S3DataType\\\":\\\"S3Prefix\\\",\\\"S3Uri\\\":\\\"s3://sagemaker-us-east-1-118600533013/bitcoin-notebook/data/test/\\\",\\\"S3DataDistributionType\\\":\\\"FullyReplicated\\\"}},\\\"ChannelName\\\":\\\"test\\\"}],\\\"HyperParameters\\\":{\\\"time_freq\\\":\\\"1D\\\",\\\"epochs\\\":\\\"400\\\",\\\"early_stopping_patience\\\":\\\"40\\\",\\\"mini_batch_size\\\":\\\"64\\\",\\\"learning_rate\\\":\\\"5E-4\\\",\\\"context_length\\\":\\\"7\\\",\\\"prediction_length\\\":\\\"7\\\"},\\\"TrainingJobName\\\":\\\"regression-dd3c9070872411ec9ce40a5f9c26874b\\\",\\\"Tags\\\":[{\\\"Key\\\":\\\"MANAGED_BY_AWS\\\",\\\"Value\\\":\\\"STARTED_BY_STEP_FUNCTIONS\\\"}]}\"}}, {\"timestamp\": 1644135294.357, \"type\": \"TaskStarted\", \"id\": 4, \"previousEventId\": 3, \"taskStartedEventDetails\": {\"resourceType\": \"sagemaker\", \"resource\": \"createTrainingJob.sync\"}}, {\"timestamp\": 1644135294.578, \"type\": \"TaskSubmitted\", \"id\": 5, \"previousEventId\": 4, \"taskSubmittedEventDetails\": {\"resourceType\": \"sagemaker\", \"resource\": \"createTrainingJob.sync\", \"output\": \"{\\\"SdkHttpMetadata\\\":{\\\"AllHttpHeaders\\\":{\\\"Keep-Alive\\\":[\\\"timeout=70\\\"],\\\"Connection\\\":[\\\"keep-alive\\\"],\\\"x-amzn-RequestId\\\":[\\\"847e7666-3322-4c49-ba23-2eaddde8ccc6\\\"],\\\"Content-Length\\\":[\\\"118\\\"],\\\"Date\\\":[\\\"Sun, 06 Feb 2022 08:14:53 GMT\\\"],\\\"Content-Type\\\":[\\\"application/x-amz-json-1.1\\\"]},\\\"HttpHeaders\\\":{\\\"Connection\\\":\\\"keep-alive\\\",\\\"Content-Length\\\":\\\"118\\\",\\\"Content-Type\\\":\\\"application/x-amz-json-1.1\\\",\\\"Date\\\":\\\"Sun, 06 Feb 2022 08:14:53 GMT\\\",\\\"Keep-Alive\\\":\\\"timeout=70\\\",\\\"x-amzn-RequestId\\\":\\\"847e7666-3322-4c49-ba23-2eaddde8ccc6\\\"},\\\"HttpStatusCode\\\":200},\\\"SdkResponseMetadata\\\":{\\\"RequestId\\\":\\\"847e7666-3322-4c49-ba23-2eaddde8ccc6\\\"},\\\"TrainingJobArn\\\":\\\"arn:aws:sagemaker:us-east-1:118600533013:training-job/regression-dd3c9070872411ec9ce40a5f9c26874b\\\"}\", \"outputDetails\": {\"truncated\": false}}}, {\"timestamp\": 1644135573.464, \"type\": \"TaskSucceeded\", \"id\": 6, \"previousEventId\": 5, \"taskSucceededEventDetails\": {\"resourceType\": \"sagemaker\", \"resource\": \"createTrainingJob.sync\", \"output\": \"{\\\"TrainingJobName\\\":\\\"regression-dd3c9070872411ec9ce40a5f9c26874b\\\",\\\"TrainingJobArn\\\":\\\"arn:aws:sagemaker:us-east-1:118600533013:training-job/regression-dd3c9070872411ec9ce40a5f9c26874b\\\",\\\"ModelArtifacts\\\":{\\\"S3ModelArtifacts\\\":\\\"s3://sagemaker-us-east-1-118600533013/bitcoin-notebook/output/regression-dd3c9070872411ec9ce40a5f9c26874b/output/model.tar.gz\\\"},\\\"TrainingJobStatus\\\":\\\"Completed\\\",\\\"SecondaryStatus\\\":\\\"Completed\\\",\\\"HyperParameters\\\":{\\\"prediction_length\\\":\\\"7\\\",\\\"time_freq\\\":\\\"1D\\\",\\\"context_length\\\":\\\"7\\\",\\\"epochs\\\":\\\"400\\\",\\\"learning_rate\\\":\\\"5E-4\\\",\\\"early_stopping_patience\\\":\\\"40\\\",\\\"mini_batch_size\\\":\\\"64\\\"},\\\"AlgorithmSpecification\\\":{\\\"TrainingImage\\\":\\\"522234722520.dkr.ecr.us-east-1.amazonaws.com/forecasting-deepar:1\\\",\\\"TrainingInputMode\\\":\\\"FILE\\\"},\\\"RoleArn\\\":\\\"arn:aws:iam::118600533013:role/service-role/AmazonSageMaker-ExecutionRole-20220205T005794\\\",\\\"InputDataConfig\\\":[{\\\"ChannelName\\\":\\\"train\\\",\\\"DataSource\\\":{\\\"S3DataSource\\\":{\\\"S3DataType\\\":\\\"S3_PREFIX\\\",\\\"S3Uri\\\":\\\"s3://sagemaker-us-east-1-118600533013/bitcoin-notebook/data/train/\\\",\\\"S3DataDistributionType\\\":\\\"FULLY_REPLICATED\\\"}},\\\"CompressionType\\\":\\\"NONE\\\",\\\"RecordWrapperType\\\":\\\"NONE\\\"},{\\\"ChannelName\\\":\\\"test\\\",\\\"DataSource\\\":{\\\"S3DataSource\\\":{\\\"S3DataType\\\":\\\"S3_PREFIX\\\",\\\"S3Uri\\\":\\\"s3://sagemaker-us-east-1-118600533013/bitcoin-notebook/data/test/\\\",\\\"S3DataDistributionType\\\":\\\"FULLY_REPLICATED\\\"}},\\\"CompressionType\\\":\\\"NONE\\\",\\\"RecordWrapperType\\\":\\\"NONE\\\"}],\\\"OutputDataConfig\\\":{\\\"S3OutputPath\\\":\\\"s3://sagemaker-us-east-1-118600533013/bitcoin-notebook/output\\\"},\\\"ResourceConfig\\\":{\\\"InstanceType\\\":\\\"ml.c4.2xlarge\\\",\\\"InstanceCount\\\":1.0,\\\"VolumeSizeInGB\\\":30.0},\\\"StoppingCondition\\\":{\\\"MaxRuntimeInSeconds\\\":86400.0},\\\"CreationTime\\\":1.644135294548E12,\\\"TrainingStartTime\\\":1.644135433833E12,\\\"TrainingEndTime\\\":1.644135564655E12,\\\"LastModifiedTime\\\":1.644135564655E12,\\\"SecondaryStatusTransitions\\\":[{\\\"Status\\\":\\\"Starting\\\",\\\"StartTime\\\":1.644135294548E12,\\\"EndTime\\\":1.644135433833E12,\\\"StatusMessage\\\":\\\"Preparing the instances for training\\\"},{\\\"Status\\\":\\\"Downloading\\\",\\\"StartTime\\\":1.644135433833E12,\\\"EndTime\\\":1.644135449894E12,\\\"StatusMessage\\\":\\\"Downloading input data\\\"},{\\\"Status\\\":\\\"Training\\\",\\\"StartTime\\\":1.644135449894E12,\\\"EndTime\\\":1.644135557974E12,\\\"StatusMessage\\\":\\\"Training image download completed. Training in progress.\\\"},{\\\"Status\\\":\\\"Uploading\\\",\\\"StartTime\\\":1.644135557974E12,\\\"EndTime\\\":1.644135564655E12,\\\"StatusMessage\\\":\\\"Uploading generated training model\\\"},{\\\"Status\\\":\\\"Completed\\\",\\\"StartTime\\\":1.644135564655E12,\\\"EndTime\\\":1.644135564655E12,\\\"StatusMessage\\\":\\\"Training job completed\\\"}],\\\"Tags\\\":{\\\"AWS_STEP_FUNCTIONS_EXECUTION_ARN\\\":\\\"arn:aws:states:us-east-1:118600533013:execution:MyTrainTransformDeploy_v1-06-08-14-50:6de8c3d1-4361-47eb-b812-c1a184760975\\\",\\\"MANAGED_BY_AWS\\\":\\\"STARTED_BY_STEP_FUNCTIONS\\\"}}\", \"outputDetails\": {\"truncated\": false}}}, {\"timestamp\": 1644135573.464, \"type\": \"TaskStateExited\", \"id\": 7, \"previousEventId\": 6, \"stateExitedEventDetails\": {\"name\": \"Train Step\", \"output\": \"{\\\"TrainingJobName\\\":\\\"regression-dd3c9070872411ec9ce40a5f9c26874b\\\",\\\"TrainingJobArn\\\":\\\"arn:aws:sagemaker:us-east-1:118600533013:training-job/regression-dd3c9070872411ec9ce40a5f9c26874b\\\",\\\"ModelArtifacts\\\":{\\\"S3ModelArtifacts\\\":\\\"s3://sagemaker-us-east-1-118600533013/bitcoin-notebook/output/regression-dd3c9070872411ec9ce40a5f9c26874b/output/model.tar.gz\\\"},\\\"TrainingJobStatus\\\":\\\"Completed\\\",\\\"SecondaryStatus\\\":\\\"Completed\\\",\\\"HyperParameters\\\":{\\\"prediction_length\\\":\\\"7\\\",\\\"time_freq\\\":\\\"1D\\\",\\\"context_length\\\":\\\"7\\\",\\\"epochs\\\":\\\"400\\\",\\\"learning_rate\\\":\\\"5E-4\\\",\\\"early_stopping_patience\\\":\\\"40\\\",\\\"mini_batch_size\\\":\\\"64\\\"},\\\"AlgorithmSpecification\\\":{\\\"TrainingImage\\\":\\\"522234722520.dkr.ecr.us-east-1.amazonaws.com/forecasting-deepar:1\\\",\\\"TrainingInputMode\\\":\\\"FILE\\\"},\\\"RoleArn\\\":\\\"arn:aws:iam::118600533013:role/service-role/AmazonSageMaker-ExecutionRole-20220205T005794\\\",\\\"InputDataConfig\\\":[{\\\"ChannelName\\\":\\\"train\\\",\\\"DataSource\\\":{\\\"S3DataSource\\\":{\\\"S3DataType\\\":\\\"S3_PREFIX\\\",\\\"S3Uri\\\":\\\"s3://sagemaker-us-east-1-118600533013/bitcoin-notebook/data/train/\\\",\\\"S3DataDistributionType\\\":\\\"FULLY_REPLICATED\\\"}},\\\"CompressionType\\\":\\\"NONE\\\",\\\"RecordWrapperType\\\":\\\"NONE\\\"},{\\\"ChannelName\\\":\\\"test\\\",\\\"DataSource\\\":{\\\"S3DataSource\\\":{\\\"S3DataType\\\":\\\"S3_PREFIX\\\",\\\"S3Uri\\\":\\\"s3://sagemaker-us-east-1-118600533013/bitcoin-notebook/data/test/\\\",\\\"S3DataDistributionType\\\":\\\"FULLY_REPLICATED\\\"}},\\\"CompressionType\\\":\\\"NONE\\\",\\\"RecordWrapperType\\\":\\\"NONE\\\"}],\\\"OutputDataConfig\\\":{\\\"S3OutputPath\\\":\\\"s3://sagemaker-us-east-1-118600533013/bitcoin-notebook/output\\\"},\\\"ResourceConfig\\\":{\\\"InstanceType\\\":\\\"ml.c4.2xlarge\\\",\\\"InstanceCount\\\":1.0,\\\"VolumeSizeInGB\\\":30.0},\\\"StoppingCondition\\\":{\\\"MaxRuntimeInSeconds\\\":86400.0},\\\"CreationTime\\\":1.644135294548E12,\\\"TrainingStartTime\\\":1.644135433833E12,\\\"TrainingEndTime\\\":1.644135564655E12,\\\"LastModifiedTime\\\":1.644135564655E12,\\\"SecondaryStatusTransitions\\\":[{\\\"Status\\\":\\\"Starting\\\",\\\"StartTime\\\":1.644135294548E12,\\\"EndTime\\\":1.644135433833E12,\\\"StatusMessage\\\":\\\"Preparing the instances for training\\\"},{\\\"Status\\\":\\\"Downloading\\\",\\\"StartTime\\\":1.644135433833E12,\\\"EndTime\\\":1.644135449894E12,\\\"StatusMessage\\\":\\\"Downloading input data\\\"},{\\\"Status\\\":\\\"Training\\\",\\\"StartTime\\\":1.644135449894E12,\\\"EndTime\\\":1.644135557974E12,\\\"StatusMessage\\\":\\\"Training image download completed. Training in progress.\\\"},{\\\"Status\\\":\\\"Uploading\\\",\\\"StartTime\\\":1.644135557974E12,\\\"EndTime\\\":1.644135564655E12,\\\"StatusMessage\\\":\\\"Uploading generated training model\\\"},{\\\"Status\\\":\\\"Completed\\\",\\\"StartTime\\\":1.644135564655E12,\\\"EndTime\\\":1.644135564655E12,\\\"StatusMessage\\\":\\\"Training job completed\\\"}],\\\"Tags\\\":{\\\"AWS_STEP_FUNCTIONS_EXECUTION_ARN\\\":\\\"arn:aws:states:us-east-1:118600533013:execution:MyTrainTransformDeploy_v1-06-08-14-50:6de8c3d1-4361-47eb-b812-c1a184760975\\\",\\\"MANAGED_BY_AWS\\\":\\\"STARTED_BY_STEP_FUNCTIONS\\\"}}\", \"outputDetails\": {\"truncated\": false}}}, {\"timestamp\": 1644135573.479, \"type\": \"TaskStateEntered\", \"id\": 8, \"previousEventId\": 7, \"stateEnteredEventDetails\": {\"name\": \"Save model\", \"input\": \"{\\\"TrainingJobName\\\":\\\"regression-dd3c9070872411ec9ce40a5f9c26874b\\\",\\\"TrainingJobArn\\\":\\\"arn:aws:sagemaker:us-east-1:118600533013:training-job/regression-dd3c9070872411ec9ce40a5f9c26874b\\\",\\\"ModelArtifacts\\\":{\\\"S3ModelArtifacts\\\":\\\"s3://sagemaker-us-east-1-118600533013/bitcoin-notebook/output/regression-dd3c9070872411ec9ce40a5f9c26874b/output/model.tar.gz\\\"},\\\"TrainingJobStatus\\\":\\\"Completed\\\",\\\"SecondaryStatus\\\":\\\"Completed\\\",\\\"HyperParameters\\\":{\\\"prediction_length\\\":\\\"7\\\",\\\"time_freq\\\":\\\"1D\\\",\\\"context_length\\\":\\\"7\\\",\\\"epochs\\\":\\\"400\\\",\\\"learning_rate\\\":\\\"5E-4\\\",\\\"early_stopping_patience\\\":\\\"40\\\",\\\"mini_batch_size\\\":\\\"64\\\"},\\\"AlgorithmSpecification\\\":{\\\"TrainingImage\\\":\\\"522234722520.dkr.ecr.us-east-1.amazonaws.com/forecasting-deepar:1\\\",\\\"TrainingInputMode\\\":\\\"FILE\\\"},\\\"RoleArn\\\":\\\"arn:aws:iam::118600533013:role/service-role/AmazonSageMaker-ExecutionRole-20220205T005794\\\",\\\"InputDataConfig\\\":[{\\\"ChannelName\\\":\\\"train\\\",\\\"DataSource\\\":{\\\"S3DataSource\\\":{\\\"S3DataType\\\":\\\"S3_PREFIX\\\",\\\"S3Uri\\\":\\\"s3://sagemaker-us-east-1-118600533013/bitcoin-notebook/data/train/\\\",\\\"S3DataDistributionType\\\":\\\"FULLY_REPLICATED\\\"}},\\\"CompressionType\\\":\\\"NONE\\\",\\\"RecordWrapperType\\\":\\\"NONE\\\"},{\\\"ChannelName\\\":\\\"test\\\",\\\"DataSource\\\":{\\\"S3DataSource\\\":{\\\"S3DataType\\\":\\\"S3_PREFIX\\\",\\\"S3Uri\\\":\\\"s3://sagemaker-us-east-1-118600533013/bitcoin-notebook/data/test/\\\",\\\"S3DataDistributionType\\\":\\\"FULLY_REPLICATED\\\"}},\\\"CompressionType\\\":\\\"NONE\\\",\\\"RecordWrapperType\\\":\\\"NONE\\\"}],\\\"OutputDataConfig\\\":{\\\"S3OutputPath\\\":\\\"s3://sagemaker-us-east-1-118600533013/bitcoin-notebook/output\\\"},\\\"ResourceConfig\\\":{\\\"InstanceType\\\":\\\"ml.c4.2xlarge\\\",\\\"InstanceCount\\\":1.0,\\\"VolumeSizeInGB\\\":30.0},\\\"StoppingCondition\\\":{\\\"MaxRuntimeInSeconds\\\":86400.0},\\\"CreationTime\\\":1.644135294548E12,\\\"TrainingStartTime\\\":1.644135433833E12,\\\"TrainingEndTime\\\":1.644135564655E12,\\\"LastModifiedTime\\\":1.644135564655E12,\\\"SecondaryStatusTransitions\\\":[{\\\"Status\\\":\\\"Starting\\\",\\\"StartTime\\\":1.644135294548E12,\\\"EndTime\\\":1.644135433833E12,\\\"StatusMessage\\\":\\\"Preparing the instances for training\\\"},{\\\"Status\\\":\\\"Downloading\\\",\\\"StartTime\\\":1.644135433833E12,\\\"EndTime\\\":1.644135449894E12,\\\"StatusMessage\\\":\\\"Downloading input data\\\"},{\\\"Status\\\":\\\"Training\\\",\\\"StartTime\\\":1.644135449894E12,\\\"EndTime\\\":1.644135557974E12,\\\"StatusMessage\\\":\\\"Training image download completed. Training in progress.\\\"},{\\\"Status\\\":\\\"Uploading\\\",\\\"StartTime\\\":1.644135557974E12,\\\"EndTime\\\":1.644135564655E12,\\\"StatusMessage\\\":\\\"Uploading generated training model\\\"},{\\\"Status\\\":\\\"Completed\\\",\\\"StartTime\\\":1.644135564655E12,\\\"EndTime\\\":1.644135564655E12,\\\"StatusMessage\\\":\\\"Training job completed\\\"}],\\\"Tags\\\":{\\\"AWS_STEP_FUNCTIONS_EXECUTION_ARN\\\":\\\"arn:aws:states:us-east-1:118600533013:execution:MyTrainTransformDeploy_v1-06-08-14-50:6de8c3d1-4361-47eb-b812-c1a184760975\\\",\\\"MANAGED_BY_AWS\\\":\\\"STARTED_BY_STEP_FUNCTIONS\\\"}}\", \"inputDetails\": {\"truncated\": false}}}, {\"timestamp\": 1644135573.479, \"type\": \"TaskScheduled\", \"id\": 9, \"previousEventId\": 8, \"taskScheduledEventDetails\": {\"resourceType\": \"sagemaker\", \"resource\": \"createModel\", \"region\": \"us-east-1\", \"parameters\": \"{\\\"ExecutionRoleArn\\\":\\\"arn:aws:iam::118600533013:role/service-role/AmazonSageMaker-ExecutionRole-20220205T005794\\\",\\\"PrimaryContainer\\\":{\\\"Environment\\\":{},\\\"Image\\\":\\\"522234722520.dkr.ecr.us-east-1.amazonaws.com/forecasting-deepar:1\\\",\\\"ModelDataUrl\\\":\\\"s3://sagemaker-us-east-1-118600533013/bitcoin-notebook/output/regression-dd3c9070872411ec9ce40a5f9c26874b/output/model.tar.gz\\\"},\\\"ModelName\\\":\\\"regression-dd3c925a872411ec9ce40a5f9c26874b\\\"}\"}}, {\"timestamp\": 1644135573.492, \"type\": \"TaskStarted\", \"id\": 10, \"previousEventId\": 9, \"taskStartedEventDetails\": {\"resourceType\": \"sagemaker\", \"resource\": \"createModel\"}}, {\"timestamp\": 1644135573.999, \"type\": \"TaskSucceeded\", \"id\": 11, \"previousEventId\": 10, \"taskSucceededEventDetails\": {\"resourceType\": \"sagemaker\", \"resource\": \"createModel\", \"output\": \"{\\\"ModelArn\\\":\\\"arn:aws:sagemaker:us-east-1:118600533013:model/regression-dd3c925a872411ec9ce40a5f9c26874b\\\",\\\"SdkHttpMetadata\\\":{\\\"AllHttpHeaders\\\":{\\\"Keep-Alive\\\":[\\\"timeout=70\\\"],\\\"Connection\\\":[\\\"keep-alive\\\"],\\\"x-amzn-RequestId\\\":[\\\"8dfb7d34-52af-47ea-ad9a-eb1f7b225432\\\"],\\\"Content-Length\\\":[\\\"105\\\"],\\\"Date\\\":[\\\"Sun, 06 Feb 2022 08:19:33 GMT\\\"],\\\"Content-Type\\\":[\\\"application/x-amz-json-1.1\\\"]},\\\"HttpHeaders\\\":{\\\"Connection\\\":\\\"keep-alive\\\",\\\"Content-Length\\\":\\\"105\\\",\\\"Content-Type\\\":\\\"application/x-amz-json-1.1\\\",\\\"Date\\\":\\\"Sun, 06 Feb 2022 08:19:33 GMT\\\",\\\"Keep-Alive\\\":\\\"timeout=70\\\",\\\"x-amzn-RequestId\\\":\\\"8dfb7d34-52af-47ea-ad9a-eb1f7b225432\\\"},\\\"HttpStatusCode\\\":200},\\\"SdkResponseMetadata\\\":{\\\"RequestId\\\":\\\"8dfb7d34-52af-47ea-ad9a-eb1f7b225432\\\"}}\", \"outputDetails\": {\"truncated\": false}}}, {\"timestamp\": 1644135573.999, \"type\": \"TaskStateExited\", \"id\": 12, \"previousEventId\": 11, \"stateExitedEventDetails\": {\"name\": \"Save model\", \"output\": \"{\\\"ModelArn\\\":\\\"arn:aws:sagemaker:us-east-1:118600533013:model/regression-dd3c925a872411ec9ce40a5f9c26874b\\\",\\\"SdkHttpMetadata\\\":{\\\"AllHttpHeaders\\\":{\\\"Keep-Alive\\\":[\\\"timeout=70\\\"],\\\"Connection\\\":[\\\"keep-alive\\\"],\\\"x-amzn-RequestId\\\":[\\\"8dfb7d34-52af-47ea-ad9a-eb1f7b225432\\\"],\\\"Content-Length\\\":[\\\"105\\\"],\\\"Date\\\":[\\\"Sun, 06 Feb 2022 08:19:33 GMT\\\"],\\\"Content-Type\\\":[\\\"application/x-amz-json-1.1\\\"]},\\\"HttpHeaders\\\":{\\\"Connection\\\":\\\"keep-alive\\\",\\\"Content-Length\\\":\\\"105\\\",\\\"Content-Type\\\":\\\"application/x-amz-json-1.1\\\",\\\"Date\\\":\\\"Sun, 06 Feb 2022 08:19:33 GMT\\\",\\\"Keep-Alive\\\":\\\"timeout=70\\\",\\\"x-amzn-RequestId\\\":\\\"8dfb7d34-52af-47ea-ad9a-eb1f7b225432\\\"},\\\"HttpStatusCode\\\":200},\\\"SdkResponseMetadata\\\":{\\\"RequestId\\\":\\\"8dfb7d34-52af-47ea-ad9a-eb1f7b225432\\\"}}\", \"outputDetails\": {\"truncated\": false}}}, {\"timestamp\": 1644135574.007, \"type\": \"TaskStateEntered\", \"id\": 13, \"previousEventId\": 12, \"stateEnteredEventDetails\": {\"name\": \"Transform Input Dataset\", \"input\": \"{\\\"ModelArn\\\":\\\"arn:aws:sagemaker:us-east-1:118600533013:model/regression-dd3c925a872411ec9ce40a5f9c26874b\\\",\\\"SdkHttpMetadata\\\":{\\\"AllHttpHeaders\\\":{\\\"Keep-Alive\\\":[\\\"timeout=70\\\"],\\\"Connection\\\":[\\\"keep-alive\\\"],\\\"x-amzn-RequestId\\\":[\\\"8dfb7d34-52af-47ea-ad9a-eb1f7b225432\\\"],\\\"Content-Length\\\":[\\\"105\\\"],\\\"Date\\\":[\\\"Sun, 06 Feb 2022 08:19:33 GMT\\\"],\\\"Content-Type\\\":[\\\"application/x-amz-json-1.1\\\"]},\\\"HttpHeaders\\\":{\\\"Connection\\\":\\\"keep-alive\\\",\\\"Content-Length\\\":\\\"105\\\",\\\"Content-Type\\\":\\\"application/x-amz-json-1.1\\\",\\\"Date\\\":\\\"Sun, 06 Feb 2022 08:19:33 GMT\\\",\\\"Keep-Alive\\\":\\\"timeout=70\\\",\\\"x-amzn-RequestId\\\":\\\"8dfb7d34-52af-47ea-ad9a-eb1f7b225432\\\"},\\\"HttpStatusCode\\\":200},\\\"SdkResponseMetadata\\\":{\\\"RequestId\\\":\\\"8dfb7d34-52af-47ea-ad9a-eb1f7b225432\\\"}}\", \"inputDetails\": {\"truncated\": false}}}, {\"timestamp\": 1644135574.007, \"type\": \"TaskScheduled\", \"id\": 14, \"previousEventId\": 13, \"taskScheduledEventDetails\": {\"resourceType\": \"sagemaker\", \"resource\": \"createTransformJob.sync\", \"region\": \"us-east-1\", \"parameters\": \"{\\\"TransformInput\\\":{\\\"DataSource\\\":{\\\"S3DataSource\\\":{\\\"S3DataType\\\":\\\"S3Prefix\\\",\\\"S3Uri\\\":\\\"s3://sagemaker-us-east-1-118600533013/bitcoin-notebook/data/test\\\"}},\\\"SplitType\\\":\\\"Line\\\"},\\\"TransformOutput\\\":{\\\"S3OutputPath\\\":\\\"s3://sagemaker-us-east-1-118600533013/bitcoin-notebook/data/batch-prediction\\\",\\\"AssembleWith\\\":\\\"Line\\\"},\\\"TransformResources\\\":{\\\"InstanceCount\\\":1,\\\"InstanceType\\\":\\\"ml.m5.large\\\"},\\\"BatchStrategy\\\":\\\"MultiRecord\\\",\\\"ModelName\\\":\\\"regression-dd3c925a872411ec9ce40a5f9c26874b\\\",\\\"TransformJobName\\\":\\\"regression-dd3c9070872411ec9ce40a5f9c26874b\\\",\\\"Tags\\\":[{\\\"Key\\\":\\\"MANAGED_BY_AWS\\\",\\\"Value\\\":\\\"STARTED_BY_STEP_FUNCTIONS\\\"}]}\"}}, {\"timestamp\": 1644135574.057, \"type\": \"TaskStarted\", \"id\": 15, \"previousEventId\": 14, \"taskStartedEventDetails\": {\"resourceType\": \"sagemaker\", \"resource\": \"createTransformJob.sync\"}}, {\"timestamp\": 1644135574.314, \"type\": \"TaskSubmitted\", \"id\": 16, \"previousEventId\": 15, \"taskSubmittedEventDetails\": {\"resourceType\": \"sagemaker\", \"resource\": \"createTransformJob.sync\", \"output\": \"{\\\"SdkHttpMetadata\\\":{\\\"AllHttpHeaders\\\":{\\\"Keep-Alive\\\":[\\\"timeout=70\\\"],\\\"Connection\\\":[\\\"keep-alive\\\"],\\\"x-amzn-RequestId\\\":[\\\"40290e13-c13a-40d7-8607-f6d54f5b7917\\\"],\\\"Content-Length\\\":[\\\"120\\\"],\\\"Date\\\":[\\\"Sun, 06 Feb 2022 08:19:34 GMT\\\"],\\\"Content-Type\\\":[\\\"application/x-amz-json-1.1\\\"]},\\\"HttpHeaders\\\":{\\\"Connection\\\":\\\"keep-alive\\\",\\\"Content-Length\\\":\\\"120\\\",\\\"Content-Type\\\":\\\"application/x-amz-json-1.1\\\",\\\"Date\\\":\\\"Sun, 06 Feb 2022 08:19:34 GMT\\\",\\\"Keep-Alive\\\":\\\"timeout=70\\\",\\\"x-amzn-RequestId\\\":\\\"40290e13-c13a-40d7-8607-f6d54f5b7917\\\"},\\\"HttpStatusCode\\\":200},\\\"SdkResponseMetadata\\\":{\\\"RequestId\\\":\\\"40290e13-c13a-40d7-8607-f6d54f5b7917\\\"},\\\"TransformJobArn\\\":\\\"arn:aws:sagemaker:us-east-1:118600533013:transform-job/regression-dd3c9070872411ec9ce40a5f9c26874b\\\"}\", \"outputDetails\": {\"truncated\": false}}}, {\"timestamp\": 1644135914.888, \"type\": \"TaskSucceeded\", \"id\": 17, \"previousEventId\": 16, \"taskSucceededEventDetails\": {\"resourceType\": \"sagemaker\", \"resource\": \"createTransformJob.sync\", \"output\": \"{\\\"TransformJobName\\\":\\\"regression-dd3c9070872411ec9ce40a5f9c26874b\\\",\\\"TransformJobArn\\\":\\\"arn:aws:sagemaker:us-east-1:118600533013:transform-job/regression-dd3c9070872411ec9ce40a5f9c26874b\\\",\\\"TransformJobStatus\\\":\\\"Completed\\\",\\\"ModelName\\\":\\\"regression-dd3c925a872411ec9ce40a5f9c26874b\\\",\\\"MaxConcurrentTransforms\\\":0.0,\\\"MaxPayloadInMB\\\":0.0,\\\"BatchStrategy\\\":\\\"MULTI_RECORD\\\",\\\"TransformInput\\\":{\\\"DataSource\\\":{\\\"S3DataSource\\\":{\\\"S3DataType\\\":\\\"S3_PREFIX\\\",\\\"S3Uri\\\":\\\"s3://sagemaker-us-east-1-118600533013/bitcoin-notebook/data/test\\\"}},\\\"CompressionType\\\":\\\"NONE\\\",\\\"SplitType\\\":\\\"LINE\\\"},\\\"TransformOutput\\\":{\\\"S3OutputPath\\\":\\\"s3://sagemaker-us-east-1-118600533013/bitcoin-notebook/data/batch-prediction\\\",\\\"AssembleWith\\\":\\\"LINE\\\"},\\\"TransformResources\\\":{\\\"InstanceType\\\":\\\"ml.m5.large\\\",\\\"InstanceCount\\\":1.0},\\\"CreationTime\\\":1.644135574E12,\\\"TransformStartTime\\\":1.644135803E12,\\\"TransformEndTime\\\":1.644135906E12,\\\"DataProcessing\\\":{\\\"InputFilter\\\":\\\"$\\\",\\\"OutputFilter\\\":\\\"$\\\",\\\"JoinSource\\\":\\\"NONE\\\"},\\\"ExperimentConfig\\\":{},\\\"Tags\\\":{\\\"AWS_STEP_FUNCTIONS_EXECUTION_ARN\\\":\\\"arn:aws:states:us-east-1:118600533013:execution:MyTrainTransformDeploy_v1-06-08-14-50:6de8c3d1-4361-47eb-b812-c1a184760975\\\",\\\"MANAGED_BY_AWS\\\":\\\"STARTED_BY_STEP_FUNCTIONS\\\"}}\", \"outputDetails\": {\"truncated\": false}}}, {\"timestamp\": 1644135914.888, \"type\": \"TaskStateExited\", \"id\": 18, \"previousEventId\": 17, \"stateExitedEventDetails\": {\"name\": \"Transform Input Dataset\", \"output\": \"{\\\"TransformJobName\\\":\\\"regression-dd3c9070872411ec9ce40a5f9c26874b\\\",\\\"TransformJobArn\\\":\\\"arn:aws:sagemaker:us-east-1:118600533013:transform-job/regression-dd3c9070872411ec9ce40a5f9c26874b\\\",\\\"TransformJobStatus\\\":\\\"Completed\\\",\\\"ModelName\\\":\\\"regression-dd3c925a872411ec9ce40a5f9c26874b\\\",\\\"MaxConcurrentTransforms\\\":0.0,\\\"MaxPayloadInMB\\\":0.0,\\\"BatchStrategy\\\":\\\"MULTI_RECORD\\\",\\\"TransformInput\\\":{\\\"DataSource\\\":{\\\"S3DataSource\\\":{\\\"S3DataType\\\":\\\"S3_PREFIX\\\",\\\"S3Uri\\\":\\\"s3://sagemaker-us-east-1-118600533013/bitcoin-notebook/data/test\\\"}},\\\"CompressionType\\\":\\\"NONE\\\",\\\"SplitType\\\":\\\"LINE\\\"},\\\"TransformOutput\\\":{\\\"S3OutputPath\\\":\\\"s3://sagemaker-us-east-1-118600533013/bitcoin-notebook/data/batch-prediction\\\",\\\"AssembleWith\\\":\\\"LINE\\\"},\\\"TransformResources\\\":{\\\"InstanceType\\\":\\\"ml.m5.large\\\",\\\"InstanceCount\\\":1.0},\\\"CreationTime\\\":1.644135574E12,\\\"TransformStartTime\\\":1.644135803E12,\\\"TransformEndTime\\\":1.644135906E12,\\\"DataProcessing\\\":{\\\"InputFilter\\\":\\\"$\\\",\\\"OutputFilter\\\":\\\"$\\\",\\\"JoinSource\\\":\\\"NONE\\\"},\\\"ExperimentConfig\\\":{},\\\"Tags\\\":{\\\"AWS_STEP_FUNCTIONS_EXECUTION_ARN\\\":\\\"arn:aws:states:us-east-1:118600533013:execution:MyTrainTransformDeploy_v1-06-08-14-50:6de8c3d1-4361-47eb-b812-c1a184760975\\\",\\\"MANAGED_BY_AWS\\\":\\\"STARTED_BY_STEP_FUNCTIONS\\\"}}\", \"outputDetails\": {\"truncated\": false}}}, {\"timestamp\": 1644135914.888, \"type\": \"ExecutionSucceeded\", \"id\": 19, \"previousEventId\": 18, \"executionSucceededEventDetails\": {\"output\": \"{\\\"TransformJobName\\\":\\\"regression-dd3c9070872411ec9ce40a5f9c26874b\\\",\\\"TransformJobArn\\\":\\\"arn:aws:sagemaker:us-east-1:118600533013:transform-job/regression-dd3c9070872411ec9ce40a5f9c26874b\\\",\\\"TransformJobStatus\\\":\\\"Completed\\\",\\\"ModelName\\\":\\\"regression-dd3c925a872411ec9ce40a5f9c26874b\\\",\\\"MaxConcurrentTransforms\\\":0.0,\\\"MaxPayloadInMB\\\":0.0,\\\"BatchStrategy\\\":\\\"MULTI_RECORD\\\",\\\"TransformInput\\\":{\\\"DataSource\\\":{\\\"S3DataSource\\\":{\\\"S3DataType\\\":\\\"S3_PREFIX\\\",\\\"S3Uri\\\":\\\"s3://sagemaker-us-east-1-118600533013/bitcoin-notebook/data/test\\\"}},\\\"CompressionType\\\":\\\"NONE\\\",\\\"SplitType\\\":\\\"LINE\\\"},\\\"TransformOutput\\\":{\\\"S3OutputPath\\\":\\\"s3://sagemaker-us-east-1-118600533013/bitcoin-notebook/data/batch-prediction\\\",\\\"AssembleWith\\\":\\\"LINE\\\"},\\\"TransformResources\\\":{\\\"InstanceType\\\":\\\"ml.m5.large\\\",\\\"InstanceCount\\\":1.0},\\\"CreationTime\\\":1.644135574E12,\\\"TransformStartTime\\\":1.644135803E12,\\\"TransformEndTime\\\":1.644135906E12,\\\"DataProcessing\\\":{\\\"InputFilter\\\":\\\"$\\\",\\\"OutputFilter\\\":\\\"$\\\",\\\"JoinSource\\\":\\\"NONE\\\"},\\\"ExperimentConfig\\\":{},\\\"Tags\\\":{\\\"AWS_STEP_FUNCTIONS_EXECUTION_ARN\\\":\\\"arn:aws:states:us-east-1:118600533013:execution:MyTrainTransformDeploy_v1-06-08-14-50:6de8c3d1-4361-47eb-b812-c1a184760975\\\",\\\"MANAGED_BY_AWS\\\":\\\"STARTED_BY_STEP_FUNCTIONS\\\"}}\", \"outputDetails\": {\"truncated\": false}}}] };\n",
       "\n",
       "    var graph = new sfn.StateMachineExecutionGraph(definition, events, elementId, options);\n",
       "    graph.render();\n",
       "});\n",
       "\n",
       "</script>\n"
      ],
      "text/plain": [
       "<IPython.core.display.HTML object>"
      ]
     },
     "execution_count": 32,
     "metadata": {},
     "output_type": "execute_result"
    }
   ],
   "source": [
    "execution.render_progress()"
   ]
  },
  {
   "cell_type": "markdown",
   "metadata": {},
   "source": [
    "Use list_events to list all events in the workflow execution."
   ]
  },
  {
   "cell_type": "code",
   "execution_count": 33,
   "metadata": {},
   "outputs": [
    {
     "data": {
      "text/html": [
       "\n",
       "    <style>\n",
       "        \n",
       "    .table-widget {\n",
       "        width: 100%;\n",
       "        font-size: 14px;\n",
       "        line-height: 28px;\n",
       "        color: #545b64;\n",
       "        border-spacing: 0;\n",
       "        background-color: #fff;\n",
       "        border-color: grey;\n",
       "        background: #fafafa;\n",
       "    }\n",
       "\n",
       "    .table-widget thead th {\n",
       "        text-align: left !important;\n",
       "        color: #879596;\n",
       "        padding: 0.3em 2em;\n",
       "        border-bottom: 1px solid #eaeded;\n",
       "        min-height: 4rem;\n",
       "        line-height: 28px;\n",
       "    }\n",
       "\n",
       "    .table-widget thead th:first-of-type {\n",
       "    }\n",
       "\n",
       "    .table-widget td {\n",
       "        overflow-wrap: break-word;\n",
       "        padding: 0.4em 2em;\n",
       "        line-height: 28px;\n",
       "        text-align: left !important;\n",
       "        background: #fff;\n",
       "        border-bottom: 1px solid #eaeded;\n",
       "        border-top: 1px solid transparent;\n",
       "    }\n",
       "\n",
       "    .table-widget td:before {\n",
       "        content: \"\";\n",
       "        height: 3rem;\n",
       "    }\n",
       "\n",
       "    a {\n",
       "        cursor: pointer;\n",
       "        text-decoration: none !important;\n",
       "        color: #007dbc;\n",
       "    }\n",
       "\n",
       "    a:hover {\n",
       "        text-decoration: underline !important;\n",
       "    }\n",
       "\n",
       "    a.disabled {\n",
       "        color: black;\n",
       "        cursor: default;\n",
       "        pointer-events: none;\n",
       "    }\n",
       "\n",
       "    .hide {\n",
       "        display: none;\n",
       "    }\n",
       "\n",
       "    pre {\n",
       "        white-space: pre-wrap;\n",
       "    }\n",
       "\n",
       "        \n",
       "    * {\n",
       "        box-sizing: border-box;\n",
       "    }\n",
       "\n",
       "    .table-widget {\n",
       "        min-width: 100%;\n",
       "        font-size: 14px;\n",
       "        line-height: 28px;\n",
       "        color: #545b64;\n",
       "        border-spacing: 0;\n",
       "        background-color: #fff;\n",
       "        border-color: grey;\n",
       "        background: #fafafa;\n",
       "    }\n",
       "\n",
       "    .table-widget thead th {\n",
       "        text-align: left !important;\n",
       "        color: #879596;\n",
       "        padding: 0.3em 2em;\n",
       "        border-bottom: 1px solid #eaeded;\n",
       "        min-height: 4rem;\n",
       "        line-height: 28px;\n",
       "    }\n",
       "\n",
       "    .table-widget td {\n",
       "        /* padding: 24px 18px; */\n",
       "        padding: 0.4em 2em;\n",
       "        line-height: 28px;\n",
       "        text-align: left !important;\n",
       "        background: #fff;\n",
       "        border-bottom: 1px solid #eaeded;\n",
       "        border-top: 1px solid transparent;\n",
       "    }\n",
       "\n",
       "    .table-widget td:before {\n",
       "        content: \"\";\n",
       "        height: 3rem;\n",
       "    }\n",
       "\n",
       "    .table-widget .clickable-cell {\n",
       "        cursor: pointer;\n",
       "    }\n",
       "\n",
       "    .hide {\n",
       "        display: none;\n",
       "    }\n",
       "\n",
       "    .triangle-right {\n",
       "        width: 0;\n",
       "        height: 0;\n",
       "        border-top: 5px solid transparent;\n",
       "        border-left: 8px solid #545b64;\n",
       "        border-bottom: 5px solid transparent;\n",
       "        margin-right: 5px;\n",
       "    }\n",
       "\n",
       "    a.awsui {\n",
       "        text-decoration: none !important;\n",
       "        color: #007dbc;\n",
       "    }\n",
       "\n",
       "    a.awsui:hover {\n",
       "        text-decoration: underline !important;\n",
       "    }\n",
       "\n",
       "    </style>\n",
       "    <table class=\"table-widget\">\n",
       "        <thead>\n",
       "            <tr>\n",
       "                <th>Name</th>\n",
       "                <th>Status</th>\n",
       "                <th>Started</th>\n",
       "                <th>End Time</th>\n",
       "            </tr>\n",
       "        </thead>\n",
       "        <tbody>\n",
       "            \n",
       "    <tr class=\"awsui-table-row\">\n",
       "        <td>\n",
       "            <a href=\"https://console.aws.amazon.com/states/home?region=us-east-1#/executions/details/arn:aws:states:us-east-1:118600533013:execution:MyTrainTransformDeploy_v1-06-08-14-50:6de8c3d1-4361-47eb-b812-c1a184760975\" target=\"_blank\" class=\"awsui\">6de8c3d1-4361-47eb-b812-c1a184760975</a>\n",
       "        </td>\n",
       "        <td>SUCCEEDED</td>\n",
       "        <td>Feb 06, 2022 08:14:54.227 AM</td>\n",
       "        <td>Feb 06, 2022 08:25:14.888 AM</td>\n",
       "    </tr>\n",
       "\n",
       "        </tbody>\n",
       "    </table>\n"
      ],
      "text/plain": [
       "<IPython.core.display.HTML object>"
      ]
     },
     "execution_count": 33,
     "metadata": {},
     "output_type": "execute_result"
    }
   ],
   "source": [
    "workflow.list_executions(html=True)"
   ]
  },
  {
   "cell_type": "code",
   "execution_count": 34,
   "metadata": {},
   "outputs": [
    {
     "data": {
      "text/html": [
       "\n",
       "    <style>\n",
       "        \n",
       "    .table-widget {\n",
       "        width: 100%;\n",
       "        font-size: 14px;\n",
       "        line-height: 28px;\n",
       "        color: #545b64;\n",
       "        border-spacing: 0;\n",
       "        background-color: #fff;\n",
       "        border-color: grey;\n",
       "        background: #fafafa;\n",
       "    }\n",
       "\n",
       "    .table-widget thead th {\n",
       "        text-align: left !important;\n",
       "        color: #879596;\n",
       "        padding: 0.3em 2em;\n",
       "        border-bottom: 1px solid #eaeded;\n",
       "        min-height: 4rem;\n",
       "        line-height: 28px;\n",
       "    }\n",
       "\n",
       "    .table-widget thead th:first-of-type {\n",
       "    }\n",
       "\n",
       "    .table-widget td {\n",
       "        overflow-wrap: break-word;\n",
       "        padding: 0.4em 2em;\n",
       "        line-height: 28px;\n",
       "        text-align: left !important;\n",
       "        background: #fff;\n",
       "        border-bottom: 1px solid #eaeded;\n",
       "        border-top: 1px solid transparent;\n",
       "    }\n",
       "\n",
       "    .table-widget td:before {\n",
       "        content: \"\";\n",
       "        height: 3rem;\n",
       "    }\n",
       "\n",
       "    a {\n",
       "        cursor: pointer;\n",
       "        text-decoration: none !important;\n",
       "        color: #007dbc;\n",
       "    }\n",
       "\n",
       "    a:hover {\n",
       "        text-decoration: underline !important;\n",
       "    }\n",
       "\n",
       "    a.disabled {\n",
       "        color: black;\n",
       "        cursor: default;\n",
       "        pointer-events: none;\n",
       "    }\n",
       "\n",
       "    .hide {\n",
       "        display: none;\n",
       "    }\n",
       "\n",
       "    pre {\n",
       "        white-space: pre-wrap;\n",
       "    }\n",
       "\n",
       "        \n",
       "    * {\n",
       "        box-sizing: border-box;\n",
       "    }\n",
       "\n",
       "    .table-widget {\n",
       "        min-width: 100%;\n",
       "        font-size: 14px;\n",
       "        line-height: 28px;\n",
       "        color: #545b64;\n",
       "        border-spacing: 0;\n",
       "        background-color: #fff;\n",
       "        border-color: grey;\n",
       "        background: #fafafa;\n",
       "    }\n",
       "\n",
       "    .table-widget thead th {\n",
       "        text-align: left !important;\n",
       "        color: #879596;\n",
       "        padding: 0.3em 2em;\n",
       "        border-bottom: 1px solid #eaeded;\n",
       "        min-height: 4rem;\n",
       "        line-height: 28px;\n",
       "    }\n",
       "\n",
       "    .table-widget td {\n",
       "        /* padding: 24px 18px; */\n",
       "        padding: 0.4em 2em;\n",
       "        line-height: 28px;\n",
       "        text-align: left !important;\n",
       "        background: #fff;\n",
       "        border-bottom: 1px solid #eaeded;\n",
       "        border-top: 1px solid transparent;\n",
       "    }\n",
       "\n",
       "    .table-widget td:before {\n",
       "        content: \"\";\n",
       "        height: 3rem;\n",
       "    }\n",
       "\n",
       "    .table-widget .clickable-cell {\n",
       "        cursor: pointer;\n",
       "    }\n",
       "\n",
       "    .hide {\n",
       "        display: none;\n",
       "    }\n",
       "\n",
       "    .triangle-right {\n",
       "        width: 0;\n",
       "        height: 0;\n",
       "        border-top: 5px solid transparent;\n",
       "        border-left: 8px solid #545b64;\n",
       "        border-bottom: 5px solid transparent;\n",
       "        margin-right: 5px;\n",
       "    }\n",
       "\n",
       "    a.awsui {\n",
       "        text-decoration: none !important;\n",
       "        color: #007dbc;\n",
       "    }\n",
       "\n",
       "    a.awsui:hover {\n",
       "        text-decoration: underline !important;\n",
       "    }\n",
       "\n",
       "    </style>\n",
       "    <table class=\"table-widget\">\n",
       "        <thead>\n",
       "            <tr>\n",
       "                <th>Name</th>\n",
       "                <th>Status</th>\n",
       "                <th>Started</th>\n",
       "                <th>End Time</th>\n",
       "            </tr>\n",
       "        </thead>\n",
       "        <tbody>\n",
       "            \n",
       "    <tr class=\"awsui-table-row\">\n",
       "        <td>\n",
       "            <a href=\"https://console.aws.amazon.com/states/home?region=us-east-1#/executions/details/arn:aws:states:us-east-1:118600533013:execution:MyTrainTransformDeploy_v1-06-08-14-50:6de8c3d1-4361-47eb-b812-c1a184760975\" target=\"_blank\" class=\"awsui\">6de8c3d1-4361-47eb-b812-c1a184760975</a>\n",
       "        </td>\n",
       "        <td>SUCCEEDED</td>\n",
       "        <td>Feb 06, 2022 08:14:54.227 AM</td>\n",
       "        <td>Feb 06, 2022 08:25:14.888 AM</td>\n",
       "    </tr>\n",
       "\n",
       "        </tbody>\n",
       "    </table>\n"
      ],
      "text/plain": [
       "<IPython.core.display.HTML object>"
      ]
     },
     "execution_count": 34,
     "metadata": {},
     "output_type": "execute_result"
    }
   ],
   "source": [
    "workflow.list_executions(html=True)"
   ]
  },
  {
   "cell_type": "code",
   "execution_count": 37,
   "metadata": {},
   "outputs": [
    {
     "name": "stdout",
     "output_type": "stream",
     "text": [
      "\u001b[33m[WARNING] To reuse the CloudFormation template in different regions, please make sure to update the region specific AWS resources in the StateMachine definition.\u001b[0m\n"
     ]
    }
   ],
   "source": [
    "template = workflow.get_cloudformation_template()\n",
    "\n",
    "with open('workflow.json', 'w') as f:\n",
    "    f.write(template)"
   ]
  },
  {
   "cell_type": "code",
   "execution_count": 39,
   "metadata": {},
   "outputs": [
    {
     "name": "stdout",
     "output_type": "stream",
     "text": [
      "AWSTemplateFormatVersion: '2010-09-09'\r\n",
      "Description: CloudFormation template for AWS Step Functions - State Machine\r\n",
      "Resources:\r\n",
      "  StateMachineComponent:\r\n",
      "    Type: AWS::StepFunctions::StateMachine\r\n",
      "    Properties:\r\n",
      "      StateMachineName: MyTrainTransformDeploy_v1-06-08-14-50\r\n",
      "      DefinitionString: |-\r\n",
      "        {\r\n",
      "          \"StartAt\": \"Train Step\",\r\n",
      "          \"States\": {\r\n",
      "            \"Train Step\": {\r\n",
      "              \"Resource\": \"arn:aws:states:::sagemaker:createTrainingJob.sync\",\r\n",
      "              \"Parameters\": {\r\n",
      "                \"AlgorithmSpecification\": {\r\n",
      "                  \"TrainingImage\": \"522234722520.dkr.ecr.us-east-1.amazonaws.com/forecasting-deepar:1\",\r\n",
      "                  \"TrainingInputMode\": \"File\"\r\n",
      "                },\r\n",
      "                \"OutputDataConfig\": {\r\n",
      "                  \"S3OutputPath\": \"s3://sagemaker-us-east-1-118600533013/bitcoin-notebook/output\"\r\n",
      "                },\r\n",
      "                \"StoppingCondition\": {\r\n",
      "                  \"MaxRuntimeInSeconds\": 86400\r\n",
      "                },\r\n",
      "                \"ResourceConfig\": {\r\n",
      "                  \"InstanceCount\": 1,\r\n",
      "                  \"InstanceType\": \"ml.c4.2xlarge\",\r\n",
      "                  \"VolumeSizeInGB\": 30\r\n",
      "                },\r\n",
      "                \"RoleArn\": \"arn:aws:iam::118600533013:role/service-role/AmazonSageMaker-ExecutionRole-20220205T005794\",\r\n",
      "                \"InputDataConfig\": [\r\n",
      "                  {\r\n",
      "                    \"DataSource\": {\r\n",
      "                      \"S3DataSource\": {\r\n",
      "                        \"S3DataType\": \"S3Prefix\",\r\n",
      "                        \"S3Uri\": \"s3://sagemaker-us-east-1-118600533013/bitcoin-notebook/data/train/\",\r\n",
      "                        \"S3DataDistributionType\": \"FullyReplicated\"\r\n",
      "                      }\r\n",
      "                    },\r\n",
      "                    \"ChannelName\": \"train\"\r\n",
      "                  },\r\n",
      "                  {\r\n",
      "                    \"DataSource\": {\r\n",
      "                      \"S3DataSource\": {\r\n",
      "                        \"S3DataType\": \"S3Prefix\",\r\n",
      "                        \"S3Uri\": \"s3://sagemaker-us-east-1-118600533013/bitcoin-notebook/data/test/\",\r\n",
      "                        \"S3DataDistributionType\": \"FullyReplicated\"\r\n",
      "                      }\r\n",
      "                    },\r\n",
      "                    \"ChannelName\": \"test\"\r\n",
      "                  }\r\n",
      "                ],\r\n",
      "                \"HyperParameters\": {\r\n",
      "                  \"time_freq\": \"1D\",\r\n",
      "                  \"epochs\": \"400\",\r\n",
      "                  \"early_stopping_patience\": \"40\",\r\n",
      "                  \"mini_batch_size\": \"64\",\r\n",
      "                  \"learning_rate\": \"5E-4\",\r\n",
      "                  \"context_length\": \"7\",\r\n",
      "                  \"prediction_length\": \"7\"\r\n",
      "                },\r\n",
      "                \"TrainingJobName.$\": \"$$.Execution.Input['JobName']\"\r\n",
      "              },\r\n",
      "              \"Type\": \"Task\",\r\n",
      "              \"Next\": \"Save model\"\r\n",
      "            },\r\n",
      "            \"Save model\": {\r\n",
      "              \"Parameters\": {\r\n",
      "                \"ExecutionRoleArn\": \"arn:aws:iam::118600533013:role/service-role/AmazonSageMaker-ExecutionRole-20220205T005794\",\r\n",
      "                \"ModelName.$\": \"$$.Execution.Input['ModelName']\",\r\n",
      "                \"PrimaryContainer\": {\r\n",
      "                  \"Environment\": {},\r\n",
      "                  \"Image\": \"522234722520.dkr.ecr.us-east-1.amazonaws.com/forecasting-deepar:1\",\r\n",
      "                  \"ModelDataUrl.$\": \"$['ModelArtifacts']['S3ModelArtifacts']\"\r\n",
      "                }\r\n",
      "              },\r\n",
      "              \"Resource\": \"arn:aws:states:::sagemaker:createModel\",\r\n",
      "              \"Type\": \"Task\",\r\n",
      "              \"Next\": \"Transform Input Dataset\"\r\n",
      "            },\r\n",
      "            \"Transform Input Dataset\": {\r\n",
      "              \"Resource\": \"arn:aws:states:::sagemaker:createTransformJob.sync\",\r\n",
      "              \"Parameters\": {\r\n",
      "                \"TransformJobName.$\": \"$$.Execution.Input['JobName']\",\r\n",
      "                \"ModelName.$\": \"$$.Execution.Input['ModelName']\",\r\n",
      "                \"TransformInput\": {\r\n",
      "                  \"DataSource\": {\r\n",
      "                    \"S3DataSource\": {\r\n",
      "                      \"S3DataType\": \"S3Prefix\",\r\n",
      "                      \"S3Uri\": \"s3://sagemaker-us-east-1-118600533013/bitcoin-notebook/data/test\"\r\n",
      "                    }\r\n",
      "                  },\r\n",
      "                  \"SplitType\": \"Line\"\r\n",
      "                },\r\n",
      "                \"TransformOutput\": {\r\n",
      "                  \"S3OutputPath\": \"s3://sagemaker-us-east-1-118600533013/bitcoin-notebook/data/batch-prediction\",\r\n",
      "                  \"AssembleWith\": \"Line\"\r\n",
      "                },\r\n",
      "                \"TransformResources\": {\r\n",
      "                  \"InstanceCount\": 1,\r\n",
      "                  \"InstanceType\": \"ml.m5.large\"\r\n",
      "                },\r\n",
      "                \"BatchStrategy\": \"MultiRecord\"\r\n",
      "              },\r\n",
      "              \"Type\": \"Task\",\r\n",
      "              \"End\": true\r\n",
      "            }\r\n",
      "          }\r\n",
      "        }\r\n",
      "      RoleArn: arn:aws:iam::118600533013:role/StepFunctionsWorkflowExecutionRole\r\n"
     ]
    }
   ],
   "source": [
    "!cat workflow.json"
   ]
  },
  {
   "cell_type": "markdown",
   "metadata": {},
   "source": [
    "Now we can deploy the model and create and endpoint that can be queried using our custom DeepARPredictor class."
   ]
  },
  {
   "cell_type": "code",
   "execution_count": 29,
   "metadata": {},
   "outputs": [
    {
     "name": "stdout",
     "output_type": "stream",
     "text": [
      "-------!"
     ]
    }
   ],
   "source": [
    "# predictor = estimator.deploy(\n",
    "#     initial_instance_count=1, instance_type=\"ml.m5.large\", predictor_cls=DeepARPredictor\n",
    "# )"
   ]
  },
  {
   "cell_type": "code",
   "execution_count": 30,
   "metadata": {},
   "outputs": [
    {
     "data": {
      "text/plain": [
       "Date\n",
       "2021-02-05    36816.508082\n",
       "2021-02-06    38007.832229\n",
       "2021-02-07    39279.412869\n",
       "2021-02-08    38833.340265\n",
       "2021-02-09    46307.574122\n",
       "                  ...     \n",
       "2021-12-30    46506.994648\n",
       "2021-12-31    47191.868390\n",
       "2022-01-01    46319.651088\n",
       "2022-01-02    47816.077676\n",
       "2022-01-03    47387.212168\n",
       "Freq: D, Name: Price_bitcoin, Length: 333, dtype: float64"
      ]
     },
     "execution_count": 30,
     "metadata": {},
     "output_type": "execute_result"
    }
   ],
   "source": [
    "#time_series_test[0][:-30]"
   ]
  },
  {
   "cell_type": "code",
   "execution_count": 31,
   "metadata": {},
   "outputs": [
    {
     "data": {
      "text/html": [
       "<div>\n",
       "<style scoped>\n",
       "    .dataframe tbody tr th:only-of-type {\n",
       "        vertical-align: middle;\n",
       "    }\n",
       "\n",
       "    .dataframe tbody tr th {\n",
       "        vertical-align: top;\n",
       "    }\n",
       "\n",
       "    .dataframe thead th {\n",
       "        text-align: right;\n",
       "    }\n",
       "</style>\n",
       "<table border=\"1\" class=\"dataframe\">\n",
       "  <thead>\n",
       "    <tr style=\"text-align: right;\">\n",
       "      <th></th>\n",
       "      <th>0.1</th>\n",
       "      <th>0.5</th>\n",
       "      <th>0.9</th>\n",
       "    </tr>\n",
       "  </thead>\n",
       "  <tbody>\n",
       "    <tr>\n",
       "      <th>2022-01-04</th>\n",
       "      <td>44409.601562</td>\n",
       "      <td>47335.433594</td>\n",
       "      <td>49665.105469</td>\n",
       "    </tr>\n",
       "    <tr>\n",
       "      <th>2022-01-05</th>\n",
       "      <td>44897.566406</td>\n",
       "      <td>47590.519531</td>\n",
       "      <td>50451.562500</td>\n",
       "    </tr>\n",
       "    <tr>\n",
       "      <th>2022-01-06</th>\n",
       "      <td>45012.765625</td>\n",
       "      <td>47385.144531</td>\n",
       "      <td>50605.820312</td>\n",
       "    </tr>\n",
       "    <tr>\n",
       "      <th>2022-01-07</th>\n",
       "      <td>44393.175781</td>\n",
       "      <td>47944.531250</td>\n",
       "      <td>51394.910156</td>\n",
       "    </tr>\n",
       "    <tr>\n",
       "      <th>2022-01-08</th>\n",
       "      <td>43859.031250</td>\n",
       "      <td>47146.968750</td>\n",
       "      <td>51238.199219</td>\n",
       "    </tr>\n",
       "  </tbody>\n",
       "</table>\n",
       "</div>"
      ],
      "text/plain": [
       "                     0.1           0.5           0.9\n",
       "2022-01-04  44409.601562  47335.433594  49665.105469\n",
       "2022-01-05  44897.566406  47590.519531  50451.562500\n",
       "2022-01-06  45012.765625  47385.144531  50605.820312\n",
       "2022-01-07  44393.175781  47944.531250  51394.910156\n",
       "2022-01-08  43859.031250  47146.968750  51238.199219"
      ]
     },
     "execution_count": 31,
     "metadata": {},
     "output_type": "execute_result"
    }
   ],
   "source": [
    "#predictor.predict(ts=time_series_test[0][:-30], quantiles=[0.10, 0.5, 0.90]).head()"
   ]
  }
 ],
 "metadata": {
  "kernelspec": {
   "display_name": "conda_mxnet_latest_p37",
   "language": "python",
   "name": "conda_mxnet_latest_p37"
  },
  "language_info": {
   "codemirror_mode": {
    "name": "ipython",
    "version": 3
   },
   "file_extension": ".py",
   "mimetype": "text/x-python",
   "name": "python",
   "nbconvert_exporter": "python",
   "pygments_lexer": "ipython3",
   "version": "3.7.10"
  },
  "notice": "Copyright 2018 Amazon.com, Inc. or its affiliates. All Rights Reserved.  Licensed under the Apache License, Version 2.0 (the \"License\"). You may not use this file except in compliance with the License. A copy of the License is located at http://aws.amazon.com/apache2.0/ or in the \"license\" file accompanying this file. This file is distributed on an \"AS IS\" BASIS, WITHOUT WARRANTIES OR CONDITIONS OF ANY KIND, either express or implied. See the License for the specific language governing permissions and limitations under the License."
 },
 "nbformat": 4,
 "nbformat_minor": 4
}
